{
 "cells": [
  {
   "cell_type": "code",
   "execution_count": 1,
   "metadata": {},
   "outputs": [],
   "source": [
    "import sqlite3\n",
    "import pandas as pd"
   ]
  },
  {
   "cell_type": "code",
   "execution_count": 2,
   "metadata": {},
   "outputs": [],
   "source": [
    "# Read the data from the file\n",
    "df = pd.read_csv('data.csv')"
   ]
  },
  {
   "cell_type": "markdown",
   "metadata": {},
   "source": [
    "# Basic Cleaning and EDA"
   ]
  },
  {
   "cell_type": "code",
   "execution_count": 3,
   "metadata": {},
   "outputs": [
    {
     "data": {
      "text/html": [
       "<div>\n",
       "<style scoped>\n",
       "    .dataframe tbody tr th:only-of-type {\n",
       "        vertical-align: middle;\n",
       "    }\n",
       "\n",
       "    .dataframe tbody tr th {\n",
       "        vertical-align: top;\n",
       "    }\n",
       "\n",
       "    .dataframe thead th {\n",
       "        text-align: right;\n",
       "    }\n",
       "</style>\n",
       "<table border=\"1\" class=\"dataframe\">\n",
       "  <thead>\n",
       "    <tr style=\"text-align: right;\">\n",
       "      <th></th>\n",
       "      <th>transaction_id</th>\n",
       "      <th>date</th>\n",
       "      <th>category</th>\n",
       "      <th>product</th>\n",
       "      <th>quantity</th>\n",
       "      <th>price</th>\n",
       "    </tr>\n",
       "  </thead>\n",
       "  <tbody>\n",
       "    <tr>\n",
       "      <th>0</th>\n",
       "      <td>1</td>\n",
       "      <td>2024-07-01</td>\n",
       "      <td>Widget</td>\n",
       "      <td>Widget-A</td>\n",
       "      <td>10.0</td>\n",
       "      <td>9.99</td>\n",
       "    </tr>\n",
       "    <tr>\n",
       "      <th>1</th>\n",
       "      <td>2</td>\n",
       "      <td>2024-07-01</td>\n",
       "      <td>Gadget</td>\n",
       "      <td>Gadget-X</td>\n",
       "      <td>5.0</td>\n",
       "      <td>19.99</td>\n",
       "    </tr>\n",
       "    <tr>\n",
       "      <th>2</th>\n",
       "      <td>3</td>\n",
       "      <td>2024-07-02</td>\n",
       "      <td>Widget</td>\n",
       "      <td>Widget-B</td>\n",
       "      <td>7.0</td>\n",
       "      <td>9.99</td>\n",
       "    </tr>\n",
       "    <tr>\n",
       "      <th>3</th>\n",
       "      <td>4</td>\n",
       "      <td>2024-07-02</td>\n",
       "      <td>Doodad</td>\n",
       "      <td>Doodad-1</td>\n",
       "      <td>NaN</td>\n",
       "      <td>4.99</td>\n",
       "    </tr>\n",
       "    <tr>\n",
       "      <th>4</th>\n",
       "      <td>5</td>\n",
       "      <td>2024-07-03</td>\n",
       "      <td>Widget</td>\n",
       "      <td>Widget-C</td>\n",
       "      <td>3.0</td>\n",
       "      <td>9.99</td>\n",
       "    </tr>\n",
       "  </tbody>\n",
       "</table>\n",
       "</div>"
      ],
      "text/plain": [
       "   transaction_id        date category   product  quantity  price\n",
       "0               1  2024-07-01   Widget  Widget-A      10.0   9.99\n",
       "1               2  2024-07-01   Gadget  Gadget-X       5.0  19.99\n",
       "2               3  2024-07-02   Widget  Widget-B       7.0   9.99\n",
       "3               4  2024-07-02   Doodad  Doodad-1       NaN   4.99\n",
       "4               5  2024-07-03   Widget  Widget-C       3.0   9.99"
      ]
     },
     "execution_count": 3,
     "metadata": {},
     "output_type": "execute_result"
    }
   ],
   "source": [
    "df.head()"
   ]
  },
  {
   "cell_type": "code",
   "execution_count": 4,
   "metadata": {},
   "outputs": [
    {
     "name": "stdout",
     "output_type": "stream",
     "text": [
      "<class 'pandas.core.frame.DataFrame'>\n",
      "RangeIndex: 50 entries, 0 to 49\n",
      "Data columns (total 6 columns):\n",
      " #   Column          Non-Null Count  Dtype  \n",
      "---  ------          --------------  -----  \n",
      " 0   transaction_id  50 non-null     int64  \n",
      " 1   date            50 non-null     object \n",
      " 2   category        50 non-null     object \n",
      " 3   product         49 non-null     object \n",
      " 4   quantity        45 non-null     float64\n",
      " 5   price           50 non-null     object \n",
      "dtypes: float64(1), int64(1), object(4)\n",
      "memory usage: 2.5+ KB\n"
     ]
    }
   ],
   "source": [
    "# Print the info of the dataframe\n",
    "df.info()"
   ]
  },
  {
   "cell_type": "code",
   "execution_count": 5,
   "metadata": {},
   "outputs": [],
   "source": [
    "# Convert 'Price' to numeric, setting errors='coerce' turns invalid values into NaN\n",
    "df['price'] = pd.to_numeric(df['price'], errors='coerce')"
   ]
  },
  {
   "cell_type": "code",
   "execution_count": 6,
   "metadata": {},
   "outputs": [],
   "source": [
    "# Drop columns with NaN in price and quantity\n",
    "df = df.dropna(subset=['quantity', 'price'], how = 'all')"
   ]
  },
  {
   "cell_type": "code",
   "execution_count": 7,
   "metadata": {},
   "outputs": [],
   "source": [
    "# Fill missing values in quantity with 0\n",
    "df['quantity'] = df['quantity'].fillna(0)"
   ]
  },
  {
   "cell_type": "code",
   "execution_count": 8,
   "metadata": {},
   "outputs": [],
   "source": [
    "# Calculate the median price for each category\n",
    "medians = df.groupby(\"category\")['price'].median()\n",
    "# Fill missing values in 'price' with the median of the category\n",
    "df['price'] = df['price'].fillna(medians)"
   ]
  },
  {
   "cell_type": "code",
   "execution_count": 9,
   "metadata": {},
   "outputs": [],
   "source": [
    "# Get the total sales by multiplying quantity and price\n",
    "df['total_sales'] = df['quantity'] * df['price']"
   ]
  },
  {
   "cell_type": "code",
   "execution_count": 10,
   "metadata": {},
   "outputs": [],
   "source": [
    "# Get week day\n",
    "df['date'] = pd.to_datetime(df['date'])\n",
    "df['day_of_week'] = df['date'].dt.day_name()"
   ]
  },
  {
   "cell_type": "code",
   "execution_count": 11,
   "metadata": {},
   "outputs": [],
   "source": [
    "# Set high volume flag\n",
    "df['high_volume'] = df['quantity'] > 10"
   ]
  },
  {
   "cell_type": "markdown",
   "metadata": {},
   "source": [
    "# Transformations"
   ]
  },
  {
   "cell_type": "code",
   "execution_count": 12,
   "metadata": {},
   "outputs": [],
   "source": [
    "# Get the category mean\n",
    "df_category_mean = df.groupby([\"category\",\"product\"])['price'].mean()"
   ]
  },
  {
   "cell_type": "code",
   "execution_count": 13,
   "metadata": {},
   "outputs": [],
   "source": [
    "\n",
    "# Get the category revenue\n",
    "df_category_revenue = df.groupby(\"category\")['total_sales'].sum()"
   ]
  },
  {
   "cell_type": "code",
   "execution_count": 15,
   "metadata": {},
   "outputs": [],
   "source": [
    "# Get the day with highest sales for each category\n",
    "# Group by category and day_of_week, sum the total_sales (reset index used to keep the columns)\n",
    "category_day = df.groupby(['category', 'day_of_week'])['total_sales'].sum().reset_index()\n",
    "# Get the index of the max value for each category\n",
    "idx = category_day.groupby('category')['total_sales'].transform('max') == category_day['total_sales']\n",
    "# Filter the dataframe with the idx\n",
    "df_category_day = category_day[idx]\n"
   ]
  },
  {
   "cell_type": "code",
   "execution_count": 15,
   "metadata": {},
   "outputs": [],
   "source": [
    "# Filter outliers (2+ standard deviations from category mean)\n",
    "# Calculate the mean and standard deviation for each category\n",
    "stats = df.groupby(\"category\")['quantity'].agg(['mean', 'std']).reset_index()\n",
    "# Merge stats back into the original DataFrame\n",
    "df = df.merge(stats, on=\"category\")\n",
    "# Tag outliers\n",
    "df['outlier'] = ((df['quantity'] < df['mean'] - 2 * df['std']) |\n",
    "                    (df['quantity'] > df['mean'] + 2 * df['std']))"
   ]
  },
  {
   "cell_type": "code",
   "execution_count": 16,
   "metadata": {},
   "outputs": [],
   "source": [
    "# Filter outliers and clean up the DataFrame\n",
    "df_outliers = df[df['outlier']].drop(columns=['mean', 'std', 'outlier'])\n",
    "df = df[~df['outlier']].drop(columns=['mean', 'std', 'outlier'])"
   ]
  },
  {
   "cell_type": "markdown",
   "metadata": {},
   "source": [
    "# Export data"
   ]
  },
  {
   "cell_type": "code",
   "execution_count": 17,
   "metadata": {},
   "outputs": [],
   "source": [
    "# SQLite database file\n",
    "db_file = \"data.db\"\n",
    "\n",
    "# Connect to the database (creates the file if it doesn't exist)\n",
    "conn = sqlite3.connect(db_file)"
   ]
  },
  {
   "cell_type": "code",
   "execution_count": 18,
   "metadata": {},
   "outputs": [
    {
     "name": "stdout",
     "output_type": "stream",
     "text": [
      "DataFrames saved successfully!\n"
     ]
    }
   ],
   "source": [
    "try:\n",
    "    # Save dataframes as separate tables\n",
    "    df.to_sql('sales', conn, if_exists='replace', index=False)\n",
    "    df_outliers.to_sql('outliers', conn, if_exists='replace', index=False)\n",
    "    df_category_day.to_sql('category_day', conn, if_exists='replace', index=False)\n",
    "    df_category_mean.to_sql('category_mean', conn, if_exists='replace')\n",
    "    df_category_revenue.to_sql('category_revenue', conn, if_exists='replace')\n",
    "    print(\"DataFrames saved successfully!\")\n",
    "finally:\n",
    "    # Close the connection\n",
    "    conn.close()"
   ]
  }
 ],
 "metadata": {
  "kernelspec": {
   "display_name": "Python 3",
   "language": "python",
   "name": "python3"
  },
  "language_info": {
   "codemirror_mode": {
    "name": "ipython",
    "version": 3
   },
   "file_extension": ".py",
   "mimetype": "text/x-python",
   "name": "python",
   "nbconvert_exporter": "python",
   "pygments_lexer": "ipython3",
   "version": "3.9.6"
  }
 },
 "nbformat": 4,
 "nbformat_minor": 2
}
